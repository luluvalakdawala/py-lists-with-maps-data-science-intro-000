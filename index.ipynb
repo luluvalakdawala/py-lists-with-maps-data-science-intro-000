{
 "cells": [
  {
   "cell_type": "markdown",
   "metadata": {
    "collapsed": true
   },
   "source": [
    "# Lists and Maps Lab"
   ]
  },
  {
   "cell_type": "markdown",
   "metadata": {},
   "source": [
    "### Introduction"
   ]
  },
  {
   "cell_type": "markdown",
   "metadata": {},
   "source": [
    "Ok, so now that we have a sense of how to read from and alter a list in Python, let's see how our knowledge of lists can help us in creating data visualizations by plotting maps. "
   ]
  },
  {
   "cell_type": "markdown",
   "metadata": {},
   "source": [
    "### Working with lists and maps"
   ]
  },
  {
   "cell_type": "markdown",
   "metadata": {},
   "source": [
    "As we know, lists are used to store a collection of data.  In describing a city, we can use lists to organize our data in all sorts of ways.  For example, here is a list of neighborhoods in the city of Buenos Aires."
   ]
  },
  {
   "cell_type": "code",
   "execution_count": 1,
   "metadata": {},
   "outputs": [],
   "source": [
    "neighborhoods = ['Palermo', 'Ricoleta', 'Santelmo', 'Puerto Madero', 'Belgrano', 'La Boca']"
   ]
  },
  {
   "cell_type": "markdown",
   "metadata": {},
   "source": [
    "> Press shift + enter on this cell and all following code cells."
   ]
  },
  {
   "cell_type": "markdown",
   "metadata": {},
   "source": [
    "Assign the variable `palermo` to the first element of the `neighborhoods` list."
   ]
  },
  {
   "cell_type": "code",
   "execution_count": 2,
   "metadata": {},
   "outputs": [],
   "source": [
    "palermo = neighborhoods[0]"
   ]
  },
  {
   "cell_type": "markdown",
   "metadata": {},
   "source": [
    "Now assign the variable `la_boca` to the last element of our list."
   ]
  },
  {
   "cell_type": "code",
   "execution_count": 3,
   "metadata": {},
   "outputs": [],
   "source": [
    "la_boca = neighborhoods[-1]"
   ]
  },
  {
   "cell_type": "markdown",
   "metadata": {},
   "source": [
    "Beyond the neighborhoods, another thing that we can think of representing as a collection are the coordinates of a city, latitude and longitude.  Below, our `coordinates` list contains the coordinates for Buenos Aires.  The first element is latitude and the second is longitude."
   ]
  },
  {
   "cell_type": "code",
   "execution_count": 4,
   "metadata": {},
   "outputs": [],
   "source": [
    "coordinates = [-34.6037, -58.3816]"
   ]
  },
  {
   "cell_type": "markdown",
   "metadata": {},
   "source": [
    "Set `ba_latitude` to equal the latitude of Buenos Aires and set `ba_longitude` to the longitude of Buenos Aires."
   ]
  },
  {
   "cell_type": "code",
   "execution_count": 5,
   "metadata": {},
   "outputs": [],
   "source": [
    "ba_latitude = coordinates[0]"
   ]
  },
  {
   "cell_type": "code",
   "execution_count": 6,
   "metadata": {},
   "outputs": [],
   "source": [
    "ba_longitude = coordinates[1]"
   ]
  },
  {
   "cell_type": "markdown",
   "metadata": {},
   "source": [
    "Now let's see if we can display this as a map."
   ]
  },
  {
   "cell_type": "markdown",
   "metadata": {},
   "source": [
    "First we download a mapping library with `pip`. Remember a library is simply a tool comprised of code hosted somewhere else on the internet and which we download to use in our current project. Pip is another tool that allows us to easily download various Python libraries from the Internet.  "
   ]
  },
  {
   "cell_type": "code",
   "execution_count": 7,
   "metadata": {},
   "outputs": [
    {
     "name": "stdout",
     "output_type": "stream",
     "text": [
      "Requirement already satisfied: folium in /opt/conda/envs/learn-env/lib/python3.6/site-packages (0.10.0)\n",
      "Requirement already satisfied: branca>=0.3.0 in /opt/conda/envs/learn-env/lib/python3.6/site-packages (from folium) (0.3.1)\n",
      "Requirement already satisfied: requests in /opt/conda/envs/learn-env/lib/python3.6/site-packages (from folium) (2.22.0)\n",
      "Requirement already satisfied: numpy in /opt/conda/envs/learn-env/lib/python3.6/site-packages (from folium) (1.17.2)\n",
      "Requirement already satisfied: jinja2>=2.9 in /opt/conda/envs/learn-env/lib/python3.6/site-packages (from folium) (2.10.3)\n",
      "Requirement already satisfied: six in /opt/conda/envs/learn-env/lib/python3.6/site-packages (from branca>=0.3.0->folium) (1.12.0)\n",
      "Requirement already satisfied: chardet<3.1.0,>=3.0.2 in /opt/conda/envs/learn-env/lib/python3.6/site-packages (from requests->folium) (3.0.4)\n",
      "Requirement already satisfied: idna<2.9,>=2.5 in /opt/conda/envs/learn-env/lib/python3.6/site-packages (from requests->folium) (2.8)\n",
      "Requirement already satisfied: urllib3!=1.25.0,!=1.25.1,<1.26,>=1.21.1 in /opt/conda/envs/learn-env/lib/python3.6/site-packages (from requests->folium) (1.24.2)\n",
      "Requirement already satisfied: certifi>=2017.4.17 in /opt/conda/envs/learn-env/lib/python3.6/site-packages (from requests->folium) (2019.9.11)\n",
      "Requirement already satisfied: MarkupSafe>=0.23 in /opt/conda/envs/learn-env/lib/python3.6/site-packages (from jinja2>=2.9->folium) (1.1.1)\n"
     ]
    }
   ],
   "source": [
    "!pip install folium"
   ]
  },
  {
   "cell_type": "markdown",
   "metadata": {},
   "source": [
    "Press shift + enter on the above code, and our `folium` library is available to us.  Now we just tell Python that we will be using `folium` in our codebase by writing `import folium` in the next cell. Once the import is complete we will be able to display some maps with the help of `folium`."
   ]
  },
  {
   "cell_type": "code",
   "execution_count": 8,
   "metadata": {
    "scrolled": true
   },
   "outputs": [
    {
     "data": {
      "text/html": [
       "<div style=\"width:100%;\"><div style=\"position:relative;width:100%;height:0;padding-bottom:60%;\"><iframe src=\"data:text/html;charset=utf-8;base64,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\" style=\"position:absolute;width:100%;height:100%;left:0;top:0;border:none !important;\" allowfullscreen webkitallowfullscreen mozallowfullscreen></iframe></div></div>"
      ],
      "text/plain": [
       "<folium.folium.Map at 0x7fa1c41e9278>"
      ]
     },
     "execution_count": 8,
     "metadata": {},
     "output_type": "execute_result"
    }
   ],
   "source": [
    "import folium\n",
    "buenos_map = folium.Map([ba_latitude, ba_longitude])\n",
    "buenos_map"
   ]
  },
  {
   "cell_type": "markdown",
   "metadata": {},
   "source": [
    "All of that from a couple of lines of code.  Let's understand it:\n",
    "\n",
    "```python\n",
    "import folium\n",
    "buenos_map = folium.Map([ba_latitude, ba_longitude])\n",
    "buenos_map\n",
    "```"
   ]
  },
  {
   "cell_type": "markdown",
   "metadata": {},
   "source": [
    "> [Folium](https://github.com/python-visualization/folium) is a mapping library built on Python.  We created a representation of a map, by referencing the `folium.Map` function and passing through a list.  That list represents the latitude and longitude, just like we saw previously.  The map object is stored as the variable `buenos_map`.  Since `buenos_map` is the last line of a cell, the map is displayed."
   ]
  },
  {
   "cell_type": "code",
   "execution_count": 10,
   "metadata": {},
   "outputs": [
    {
     "name": "stdout",
     "output_type": "stream",
     "text": [
      "Help on module folium.map in folium:\n",
      "\n",
      "NAME\n",
      "    folium.map - Classes for drawing maps.\n",
      "\n",
      "CLASSES\n",
      "    branca.element.Element(builtins.object)\n",
      "        Popup\n",
      "    branca.element.MacroElement(branca.element.Element)\n",
      "        CustomPane\n",
      "        FitBounds\n",
      "        Icon\n",
      "        Layer\n",
      "            FeatureGroup\n",
      "        LayerControl\n",
      "        Marker\n",
      "        Tooltip\n",
      "    \n",
      "    class CustomPane(branca.element.MacroElement)\n",
      "     |  Creates a custom pane to hold map elements.\n",
      "     |  \n",
      "     |  Behavior is as in https://leafletjs.com/examples/map-panes/\n",
      "     |  \n",
      "     |  Parameters\n",
      "     |  ----------\n",
      "     |  name: string\n",
      "     |      Name of the custom pane. Other map elements can be added\n",
      "     |      to the pane by specifying the 'pane' kwarg when constructing\n",
      "     |      them.\n",
      "     |  z_index: int or string, default 625\n",
      "     |      The z-index that will be associated with the pane, and will\n",
      "     |      determine which map elements lie over/under it. The default\n",
      "     |      (625) corresponds to between markers and tooltips. Default\n",
      "     |      panes and z-indexes can be found at\n",
      "     |      https://leafletjs.com/reference-1.5.1.html#map-pane\n",
      "     |  pointer_events: bool, default False\n",
      "     |      Whether or not layers in the pane should interact with the\n",
      "     |      cursor. Setting to False will prevent interfering with\n",
      "     |      pointer events associated with lower layers.\n",
      "     |  \n",
      "     |  Method resolution order:\n",
      "     |      CustomPane\n",
      "     |      branca.element.MacroElement\n",
      "     |      branca.element.Element\n",
      "     |      builtins.object\n",
      "     |  \n",
      "     |  Methods defined here:\n",
      "     |  \n",
      "     |  __init__(self, name, z_index=625, pointer_events=False)\n",
      "     |      Initialize self.  See help(type(self)) for accurate signature.\n",
      "     |  \n",
      "     |  ----------------------------------------------------------------------\n",
      "     |  Methods inherited from branca.element.MacroElement:\n",
      "     |  \n",
      "     |  render(self, **kwargs)\n",
      "     |      Renders the HTML representation of the element.\n",
      "     |  \n",
      "     |  ----------------------------------------------------------------------\n",
      "     |  Methods inherited from branca.element.Element:\n",
      "     |  \n",
      "     |  add_child(self, child, name=None, index=None)\n",
      "     |      Add a child.\n",
      "     |  \n",
      "     |  add_children(self, child, name=None, index=None)\n",
      "     |      Add a child.\n",
      "     |  \n",
      "     |  add_to(self, parent, name=None, index=None)\n",
      "     |      Add element to a parent.\n",
      "     |  \n",
      "     |  get_bounds(self)\n",
      "     |      Computes the bounds of the object and all it's children\n",
      "     |      in the form [[lat_min, lon_min], [lat_max, lon_max]].\n",
      "     |  \n",
      "     |  get_name(self)\n",
      "     |      Returns a string representation of the object.\n",
      "     |      This string has to be unique and to be a python and\n",
      "     |      javascript-compatible\n",
      "     |      variable name.\n",
      "     |  \n",
      "     |  get_root(self)\n",
      "     |      Returns the root of the elements tree.\n",
      "     |  \n",
      "     |  save(self, outfile, close_file=True, **kwargs)\n",
      "     |      Saves an Element into a file.\n",
      "     |      \n",
      "     |      Parameters\n",
      "     |      ----------\n",
      "     |      outfile : str or file object\n",
      "     |          The file (or filename) where you want to output the html.\n",
      "     |      close_file : bool, default True\n",
      "     |          Whether the file has to be closed after write.\n",
      "     |  \n",
      "     |  to_dict(self, depth=-1, ordered=True, **kwargs)\n",
      "     |      Returns a dict representation of the object.\n",
      "     |  \n",
      "     |  to_json(self, depth=-1, **kwargs)\n",
      "     |      Returns a JSON representation of the object.\n",
      "     |  \n",
      "     |  ----------------------------------------------------------------------\n",
      "     |  Data descriptors inherited from branca.element.Element:\n",
      "     |  \n",
      "     |  __dict__\n",
      "     |      dictionary for instance variables (if defined)\n",
      "     |  \n",
      "     |  __weakref__\n",
      "     |      list of weak references to the object (if defined)\n",
      "    \n",
      "    class FeatureGroup(Layer)\n",
      "     |  Create a FeatureGroup layer ; you can put things in it and handle them\n",
      "     |  as a single layer.  For example, you can add a LayerControl to\n",
      "     |  tick/untick the whole group.\n",
      "     |  \n",
      "     |  Parameters\n",
      "     |  ----------\n",
      "     |  name : str, default None\n",
      "     |      The name of the featureGroup layer.\n",
      "     |      It will be displayed in the LayerControl.\n",
      "     |      If None get_name() will be called to get the technical (ugly) name.\n",
      "     |  overlay : bool, default True\n",
      "     |      Whether your layer will be an overlay (ticked with a check box in\n",
      "     |      LayerControls) or a base layer (ticked with a radio button).\n",
      "     |  control: bool, default True\n",
      "     |      Whether the layer will be included in LayerControls.\n",
      "     |  show: bool, default True\n",
      "     |      Whether the layer will be shown on opening (only for overlays).\n",
      "     |  **kwargs\n",
      "     |      Additional (possibly inherited) options. See\n",
      "     |      https://leafletjs.com/reference-1.5.1.html#featuregroup\n",
      "     |  \n",
      "     |  Method resolution order:\n",
      "     |      FeatureGroup\n",
      "     |      Layer\n",
      "     |      branca.element.MacroElement\n",
      "     |      branca.element.Element\n",
      "     |      builtins.object\n",
      "     |  \n",
      "     |  Methods defined here:\n",
      "     |  \n",
      "     |  __init__(self, name=None, overlay=True, control=True, show=True, **kwargs)\n",
      "     |      Initialize self.  See help(type(self)) for accurate signature.\n",
      "     |  \n",
      "     |  ----------------------------------------------------------------------\n",
      "     |  Methods inherited from branca.element.MacroElement:\n",
      "     |  \n",
      "     |  render(self, **kwargs)\n",
      "     |      Renders the HTML representation of the element.\n",
      "     |  \n",
      "     |  ----------------------------------------------------------------------\n",
      "     |  Methods inherited from branca.element.Element:\n",
      "     |  \n",
      "     |  add_child(self, child, name=None, index=None)\n",
      "     |      Add a child.\n",
      "     |  \n",
      "     |  add_children(self, child, name=None, index=None)\n",
      "     |      Add a child.\n",
      "     |  \n",
      "     |  add_to(self, parent, name=None, index=None)\n",
      "     |      Add element to a parent.\n",
      "     |  \n",
      "     |  get_bounds(self)\n",
      "     |      Computes the bounds of the object and all it's children\n",
      "     |      in the form [[lat_min, lon_min], [lat_max, lon_max]].\n",
      "     |  \n",
      "     |  get_name(self)\n",
      "     |      Returns a string representation of the object.\n",
      "     |      This string has to be unique and to be a python and\n",
      "     |      javascript-compatible\n",
      "     |      variable name.\n",
      "     |  \n",
      "     |  get_root(self)\n",
      "     |      Returns the root of the elements tree.\n",
      "     |  \n",
      "     |  save(self, outfile, close_file=True, **kwargs)\n",
      "     |      Saves an Element into a file.\n",
      "     |      \n",
      "     |      Parameters\n",
      "     |      ----------\n",
      "     |      outfile : str or file object\n",
      "     |          The file (or filename) where you want to output the html.\n",
      "     |      close_file : bool, default True\n",
      "     |          Whether the file has to be closed after write.\n",
      "     |  \n",
      "     |  to_dict(self, depth=-1, ordered=True, **kwargs)\n",
      "     |      Returns a dict representation of the object.\n",
      "     |  \n",
      "     |  to_json(self, depth=-1, **kwargs)\n",
      "     |      Returns a JSON representation of the object.\n",
      "     |  \n",
      "     |  ----------------------------------------------------------------------\n",
      "     |  Data descriptors inherited from branca.element.Element:\n",
      "     |  \n",
      "     |  __dict__\n",
      "     |      dictionary for instance variables (if defined)\n",
      "     |  \n",
      "     |  __weakref__\n",
      "     |      list of weak references to the object (if defined)\n",
      "    \n",
      "    class FitBounds(branca.element.MacroElement)\n",
      "     |  Fit the map to contain a bounding box with the\n",
      "     |  maximum zoom level possible.\n",
      "     |  \n",
      "     |  Parameters\n",
      "     |  ----------\n",
      "     |  bounds: list of (latitude, longitude) points\n",
      "     |      Bounding box specified as two points [southwest, northeast]\n",
      "     |  padding_top_left: (x, y) point, default None\n",
      "     |      Padding in the top left corner. Useful if some elements in\n",
      "     |      the corner, such as controls, might obscure objects you're zooming\n",
      "     |      to.\n",
      "     |  padding_bottom_right: (x, y) point, default None\n",
      "     |      Padding in the bottom right corner.\n",
      "     |  padding: (x, y) point, default None\n",
      "     |      Equivalent to setting both top left and bottom right padding to\n",
      "     |      the same value.\n",
      "     |  max_zoom: int, default None\n",
      "     |      Maximum zoom to be used.\n",
      "     |  \n",
      "     |  Method resolution order:\n",
      "     |      FitBounds\n",
      "     |      branca.element.MacroElement\n",
      "     |      branca.element.Element\n",
      "     |      builtins.object\n",
      "     |  \n",
      "     |  Methods defined here:\n",
      "     |  \n",
      "     |  __init__(self, bounds, padding_top_left=None, padding_bottom_right=None, padding=None, max_zoom=None)\n",
      "     |      Initialize self.  See help(type(self)) for accurate signature.\n",
      "     |  \n",
      "     |  ----------------------------------------------------------------------\n",
      "     |  Methods inherited from branca.element.MacroElement:\n",
      "     |  \n",
      "     |  render(self, **kwargs)\n",
      "     |      Renders the HTML representation of the element.\n",
      "     |  \n",
      "     |  ----------------------------------------------------------------------\n",
      "     |  Methods inherited from branca.element.Element:\n",
      "     |  \n",
      "     |  add_child(self, child, name=None, index=None)\n",
      "     |      Add a child.\n",
      "     |  \n",
      "     |  add_children(self, child, name=None, index=None)\n",
      "     |      Add a child.\n",
      "     |  \n",
      "     |  add_to(self, parent, name=None, index=None)\n",
      "     |      Add element to a parent.\n",
      "     |  \n",
      "     |  get_bounds(self)\n",
      "     |      Computes the bounds of the object and all it's children\n",
      "     |      in the form [[lat_min, lon_min], [lat_max, lon_max]].\n",
      "     |  \n",
      "     |  get_name(self)\n",
      "     |      Returns a string representation of the object.\n",
      "     |      This string has to be unique and to be a python and\n",
      "     |      javascript-compatible\n",
      "     |      variable name.\n",
      "     |  \n",
      "     |  get_root(self)\n",
      "     |      Returns the root of the elements tree.\n",
      "     |  \n",
      "     |  save(self, outfile, close_file=True, **kwargs)\n",
      "     |      Saves an Element into a file.\n",
      "     |      \n",
      "     |      Parameters\n",
      "     |      ----------\n",
      "     |      outfile : str or file object\n",
      "     |          The file (or filename) where you want to output the html.\n",
      "     |      close_file : bool, default True\n",
      "     |          Whether the file has to be closed after write.\n",
      "     |  \n",
      "     |  to_dict(self, depth=-1, ordered=True, **kwargs)\n",
      "     |      Returns a dict representation of the object.\n",
      "     |  \n",
      "     |  to_json(self, depth=-1, **kwargs)\n",
      "     |      Returns a JSON representation of the object.\n",
      "     |  \n",
      "     |  ----------------------------------------------------------------------\n",
      "     |  Data descriptors inherited from branca.element.Element:\n",
      "     |  \n",
      "     |  __dict__\n",
      "     |      dictionary for instance variables (if defined)\n",
      "     |  \n",
      "     |  __weakref__\n",
      "     |      list of weak references to the object (if defined)\n",
      "    \n",
      "    class Icon(branca.element.MacroElement)\n",
      "     |  Creates an Icon object that will be rendered\n",
      "     |  using Leaflet.awesome-markers.\n",
      "     |  \n",
      "     |  Parameters\n",
      "     |  ----------\n",
      "     |  color : str, default 'blue'\n",
      "     |      The color of the marker. You can use:\n",
      "     |  \n",
      "     |          ['red', 'blue', 'green', 'purple', 'orange', 'darkred',\n",
      "     |           'lightred', 'beige', 'darkblue', 'darkgreen', 'cadetblue',\n",
      "     |           'darkpurple', 'white', 'pink', 'lightblue', 'lightgreen',\n",
      "     |           'gray', 'black', 'lightgray']\n",
      "     |  \n",
      "     |  icon_color : str, default 'white'\n",
      "     |      The color of the drawing on the marker. You can use colors above,\n",
      "     |      or an html color code.\n",
      "     |  icon : str, default 'info-sign'\n",
      "     |      The name of the marker sign.\n",
      "     |      See Font-Awesome website to choose yours.\n",
      "     |      Warning : depending on the icon you choose you may need to adapt\n",
      "     |      the `prefix` as well.\n",
      "     |  angle : int, default 0\n",
      "     |      The icon will be rotated by this amount of degrees.\n",
      "     |  prefix : str, default 'glyphicon'\n",
      "     |      The prefix states the source of the icon. 'fa' for font-awesome or\n",
      "     |      'glyphicon' for bootstrap 3.\n",
      "     |  \n",
      "     |  https://github.com/lvoogdt/Leaflet.awesome-markers\n",
      "     |  \n",
      "     |  Method resolution order:\n",
      "     |      Icon\n",
      "     |      branca.element.MacroElement\n",
      "     |      branca.element.Element\n",
      "     |      builtins.object\n",
      "     |  \n",
      "     |  Methods defined here:\n",
      "     |  \n",
      "     |  __init__(self, color='blue', icon_color='white', icon='info-sign', angle=0, prefix='glyphicon', **kwargs)\n",
      "     |      Initialize self.  See help(type(self)) for accurate signature.\n",
      "     |  \n",
      "     |  ----------------------------------------------------------------------\n",
      "     |  Data and other attributes defined here:\n",
      "     |  \n",
      "     |  color_options = {'beige', 'black', 'blue', 'cadetblue', 'darkblue', 'd...\n",
      "     |  \n",
      "     |  ----------------------------------------------------------------------\n",
      "     |  Methods inherited from branca.element.MacroElement:\n",
      "     |  \n",
      "     |  render(self, **kwargs)\n",
      "     |      Renders the HTML representation of the element.\n",
      "     |  \n",
      "     |  ----------------------------------------------------------------------\n",
      "     |  Methods inherited from branca.element.Element:\n",
      "     |  \n",
      "     |  add_child(self, child, name=None, index=None)\n",
      "     |      Add a child.\n",
      "     |  \n",
      "     |  add_children(self, child, name=None, index=None)\n",
      "     |      Add a child.\n",
      "     |  \n",
      "     |  add_to(self, parent, name=None, index=None)\n",
      "     |      Add element to a parent.\n",
      "     |  \n",
      "     |  get_bounds(self)\n",
      "     |      Computes the bounds of the object and all it's children\n",
      "     |      in the form [[lat_min, lon_min], [lat_max, lon_max]].\n",
      "     |  \n",
      "     |  get_name(self)\n",
      "     |      Returns a string representation of the object.\n",
      "     |      This string has to be unique and to be a python and\n",
      "     |      javascript-compatible\n",
      "     |      variable name.\n",
      "     |  \n",
      "     |  get_root(self)\n",
      "     |      Returns the root of the elements tree.\n",
      "     |  \n",
      "     |  save(self, outfile, close_file=True, **kwargs)\n",
      "     |      Saves an Element into a file.\n",
      "     |      \n",
      "     |      Parameters\n",
      "     |      ----------\n",
      "     |      outfile : str or file object\n",
      "     |          The file (or filename) where you want to output the html.\n",
      "     |      close_file : bool, default True\n",
      "     |          Whether the file has to be closed after write.\n",
      "     |  \n",
      "     |  to_dict(self, depth=-1, ordered=True, **kwargs)\n",
      "     |      Returns a dict representation of the object.\n",
      "     |  \n",
      "     |  to_json(self, depth=-1, **kwargs)\n",
      "     |      Returns a JSON representation of the object.\n",
      "     |  \n",
      "     |  ----------------------------------------------------------------------\n",
      "     |  Data descriptors inherited from branca.element.Element:\n",
      "     |  \n",
      "     |  __dict__\n",
      "     |      dictionary for instance variables (if defined)\n",
      "     |  \n",
      "     |  __weakref__\n",
      "     |      list of weak references to the object (if defined)\n",
      "    \n",
      "    class Layer(branca.element.MacroElement)\n",
      "     |  An abstract class for everything that is a Layer on the map.\n",
      "     |  It will be used to define whether an object will be included in\n",
      "     |  LayerControls.\n",
      "     |  \n",
      "     |  Parameters\n",
      "     |  ----------\n",
      "     |  name : string, default None\n",
      "     |      The name of the Layer, as it will appear in LayerControls\n",
      "     |  overlay : bool, default False\n",
      "     |      Adds the layer as an optional overlay (True) or the base layer (False).\n",
      "     |  control : bool, default True\n",
      "     |      Whether the Layer will be included in LayerControls.\n",
      "     |  show: bool, default True\n",
      "     |      Whether the layer will be shown on opening (only for overlays).\n",
      "     |  \n",
      "     |  Method resolution order:\n",
      "     |      Layer\n",
      "     |      branca.element.MacroElement\n",
      "     |      branca.element.Element\n",
      "     |      builtins.object\n",
      "     |  \n",
      "     |  Methods defined here:\n",
      "     |  \n",
      "     |  __init__(self, name=None, overlay=False, control=True, show=True)\n",
      "     |      Initialize self.  See help(type(self)) for accurate signature.\n",
      "     |  \n",
      "     |  ----------------------------------------------------------------------\n",
      "     |  Methods inherited from branca.element.MacroElement:\n",
      "     |  \n",
      "     |  render(self, **kwargs)\n",
      "     |      Renders the HTML representation of the element.\n",
      "     |  \n",
      "     |  ----------------------------------------------------------------------\n",
      "     |  Methods inherited from branca.element.Element:\n",
      "     |  \n",
      "     |  add_child(self, child, name=None, index=None)\n",
      "     |      Add a child.\n",
      "     |  \n",
      "     |  add_children(self, child, name=None, index=None)\n",
      "     |      Add a child.\n",
      "     |  \n",
      "     |  add_to(self, parent, name=None, index=None)\n",
      "     |      Add element to a parent.\n",
      "     |  \n",
      "     |  get_bounds(self)\n",
      "     |      Computes the bounds of the object and all it's children\n",
      "     |      in the form [[lat_min, lon_min], [lat_max, lon_max]].\n",
      "     |  \n",
      "     |  get_name(self)\n",
      "     |      Returns a string representation of the object.\n",
      "     |      This string has to be unique and to be a python and\n",
      "     |      javascript-compatible\n",
      "     |      variable name.\n",
      "     |  \n",
      "     |  get_root(self)\n",
      "     |      Returns the root of the elements tree.\n",
      "     |  \n",
      "     |  save(self, outfile, close_file=True, **kwargs)\n",
      "     |      Saves an Element into a file.\n",
      "     |      \n",
      "     |      Parameters\n",
      "     |      ----------\n",
      "     |      outfile : str or file object\n",
      "     |          The file (or filename) where you want to output the html.\n",
      "     |      close_file : bool, default True\n",
      "     |          Whether the file has to be closed after write.\n",
      "     |  \n",
      "     |  to_dict(self, depth=-1, ordered=True, **kwargs)\n",
      "     |      Returns a dict representation of the object.\n",
      "     |  \n",
      "     |  to_json(self, depth=-1, **kwargs)\n",
      "     |      Returns a JSON representation of the object.\n",
      "     |  \n",
      "     |  ----------------------------------------------------------------------\n",
      "     |  Data descriptors inherited from branca.element.Element:\n",
      "     |  \n",
      "     |  __dict__\n",
      "     |      dictionary for instance variables (if defined)\n",
      "     |  \n",
      "     |  __weakref__\n",
      "     |      list of weak references to the object (if defined)\n",
      "    \n",
      "    class LayerControl(branca.element.MacroElement)\n",
      "     |  Creates a LayerControl object to be added on a folium map.\n",
      "     |  \n",
      "     |  This object should be added to a Map object. Only Layer children\n",
      "     |  of Map are included in the layer control.\n",
      "     |  \n",
      "     |  Parameters\n",
      "     |  ----------\n",
      "     |  position : str\n",
      "     |        The position of the control (one of the map corners), can be\n",
      "     |        'topleft', 'topright', 'bottomleft' or 'bottomright'\n",
      "     |        default: 'topright'\n",
      "     |  collapsed : bool, default True\n",
      "     |        If true the control will be collapsed into an icon and expanded on\n",
      "     |        mouse hover or touch.\n",
      "     |  autoZIndex : bool, default True\n",
      "     |        If true the control assigns zIndexes in increasing order to all of\n",
      "     |        its layers so that the order is preserved when switching them on/off.\n",
      "     |  **kwargs\n",
      "     |      Additional (possibly inherited) options. See\n",
      "     |      https://leafletjs.com/reference-1.5.1.html#control-layers\n",
      "     |  \n",
      "     |  Method resolution order:\n",
      "     |      LayerControl\n",
      "     |      branca.element.MacroElement\n",
      "     |      branca.element.Element\n",
      "     |      builtins.object\n",
      "     |  \n",
      "     |  Methods defined here:\n",
      "     |  \n",
      "     |  __init__(self, position='topright', collapsed=True, autoZIndex=True, **kwargs)\n",
      "     |      Initialize self.  See help(type(self)) for accurate signature.\n",
      "     |  \n",
      "     |  render(self, **kwargs)\n",
      "     |      Renders the HTML representation of the element.\n",
      "     |  \n",
      "     |  reset(self)\n",
      "     |  \n",
      "     |  ----------------------------------------------------------------------\n",
      "     |  Methods inherited from branca.element.Element:\n",
      "     |  \n",
      "     |  add_child(self, child, name=None, index=None)\n",
      "     |      Add a child.\n",
      "     |  \n",
      "     |  add_children(self, child, name=None, index=None)\n",
      "     |      Add a child.\n",
      "     |  \n",
      "     |  add_to(self, parent, name=None, index=None)\n",
      "     |      Add element to a parent.\n",
      "     |  \n",
      "     |  get_bounds(self)\n",
      "     |      Computes the bounds of the object and all it's children\n",
      "     |      in the form [[lat_min, lon_min], [lat_max, lon_max]].\n",
      "     |  \n",
      "     |  get_name(self)\n",
      "     |      Returns a string representation of the object.\n",
      "     |      This string has to be unique and to be a python and\n",
      "     |      javascript-compatible\n",
      "     |      variable name.\n",
      "     |  \n",
      "     |  get_root(self)\n",
      "     |      Returns the root of the elements tree.\n",
      "     |  \n",
      "     |  save(self, outfile, close_file=True, **kwargs)\n",
      "     |      Saves an Element into a file.\n",
      "     |      \n",
      "     |      Parameters\n",
      "     |      ----------\n",
      "     |      outfile : str or file object\n",
      "     |          The file (or filename) where you want to output the html.\n",
      "     |      close_file : bool, default True\n",
      "     |          Whether the file has to be closed after write.\n",
      "     |  \n",
      "     |  to_dict(self, depth=-1, ordered=True, **kwargs)\n",
      "     |      Returns a dict representation of the object.\n",
      "     |  \n",
      "     |  to_json(self, depth=-1, **kwargs)\n",
      "     |      Returns a JSON representation of the object.\n",
      "     |  \n",
      "     |  ----------------------------------------------------------------------\n",
      "     |  Data descriptors inherited from branca.element.Element:\n",
      "     |  \n",
      "     |  __dict__\n",
      "     |      dictionary for instance variables (if defined)\n",
      "     |  \n",
      "     |  __weakref__\n",
      "     |      list of weak references to the object (if defined)\n",
      "    \n",
      "    class Marker(branca.element.MacroElement)\n",
      "     |  Create a simple stock Leaflet marker on the map, with optional\n",
      "     |  popup text or Vincent visualization.\n",
      "     |  \n",
      "     |  Parameters\n",
      "     |  ----------\n",
      "     |  location: tuple or list\n",
      "     |      Latitude and Longitude of Marker (Northing, Easting)\n",
      "     |  popup: string or folium.Popup, default None\n",
      "     |      Label for the Marker; either an escaped HTML string to initialize\n",
      "     |      folium.Popup or a folium.Popup instance.\n",
      "     |  tooltip: str or folium.Tooltip, default None\n",
      "     |      Display a text when hovering over the object.\n",
      "     |  icon: Icon plugin\n",
      "     |      the Icon plugin to use to render the marker.\n",
      "     |  draggable: bool, default False\n",
      "     |      Set to True to be able to drag the marker around the map.\n",
      "     |  \n",
      "     |  Returns\n",
      "     |  -------\n",
      "     |  Marker names and HTML in obj.template_vars\n",
      "     |  \n",
      "     |  Examples\n",
      "     |  --------\n",
      "     |  >>> Marker(location=[45.5, -122.3], popup='Portland, OR')\n",
      "     |  >>> Marker(location=[45.5, -122.3], popup=Popup('Portland, OR'))\n",
      "     |  # If the popup label has characters that need to be escaped in HTML\n",
      "     |  >>> Marker(location=[45.5, -122.3],\n",
      "     |  ...        popup=Popup('Mom & Pop Arrow Shop >>', parse_html=True))\n",
      "     |  \n",
      "     |  Method resolution order:\n",
      "     |      Marker\n",
      "     |      branca.element.MacroElement\n",
      "     |      branca.element.Element\n",
      "     |      builtins.object\n",
      "     |  \n",
      "     |  Methods defined here:\n",
      "     |  \n",
      "     |  __init__(self, location, popup=None, tooltip=None, icon=None, draggable=False, **kwargs)\n",
      "     |      Initialize self.  See help(type(self)) for accurate signature.\n",
      "     |  \n",
      "     |  ----------------------------------------------------------------------\n",
      "     |  Methods inherited from branca.element.MacroElement:\n",
      "     |  \n",
      "     |  render(self, **kwargs)\n",
      "     |      Renders the HTML representation of the element.\n",
      "     |  \n",
      "     |  ----------------------------------------------------------------------\n",
      "     |  Methods inherited from branca.element.Element:\n",
      "     |  \n",
      "     |  add_child(self, child, name=None, index=None)\n",
      "     |      Add a child.\n",
      "     |  \n",
      "     |  add_children(self, child, name=None, index=None)\n",
      "     |      Add a child.\n",
      "     |  \n",
      "     |  add_to(self, parent, name=None, index=None)\n",
      "     |      Add element to a parent.\n",
      "     |  \n",
      "     |  get_bounds(self)\n",
      "     |      Computes the bounds of the object and all it's children\n",
      "     |      in the form [[lat_min, lon_min], [lat_max, lon_max]].\n",
      "     |  \n",
      "     |  get_name(self)\n",
      "     |      Returns a string representation of the object.\n",
      "     |      This string has to be unique and to be a python and\n",
      "     |      javascript-compatible\n",
      "     |      variable name.\n",
      "     |  \n",
      "     |  get_root(self)\n",
      "     |      Returns the root of the elements tree.\n",
      "     |  \n",
      "     |  save(self, outfile, close_file=True, **kwargs)\n",
      "     |      Saves an Element into a file.\n",
      "     |      \n",
      "     |      Parameters\n",
      "     |      ----------\n",
      "     |      outfile : str or file object\n",
      "     |          The file (or filename) where you want to output the html.\n",
      "     |      close_file : bool, default True\n",
      "     |          Whether the file has to be closed after write.\n",
      "     |  \n",
      "     |  to_dict(self, depth=-1, ordered=True, **kwargs)\n",
      "     |      Returns a dict representation of the object.\n",
      "     |  \n",
      "     |  to_json(self, depth=-1, **kwargs)\n",
      "     |      Returns a JSON representation of the object.\n",
      "     |  \n",
      "     |  ----------------------------------------------------------------------\n",
      "     |  Data descriptors inherited from branca.element.Element:\n",
      "     |  \n",
      "     |  __dict__\n",
      "     |      dictionary for instance variables (if defined)\n",
      "     |  \n",
      "     |  __weakref__\n",
      "     |      list of weak references to the object (if defined)\n",
      "    \n",
      "    class Popup(branca.element.Element)\n",
      "     |  Create a Popup instance that can be linked to a Layer.\n",
      "     |  \n",
      "     |  Parameters\n",
      "     |  ----------\n",
      "     |  html: string or Element\n",
      "     |      Content of the Popup.\n",
      "     |  parse_html: bool, default False\n",
      "     |      True if the popup is a template that needs to the rendered first.\n",
      "     |  max_width: int for pixels or text for percentages, default '100%'\n",
      "     |      The maximal width of the popup.\n",
      "     |  show: bool, default False\n",
      "     |      True renders the popup open on page load.\n",
      "     |  sticky: bool, default False\n",
      "     |      True prevents map and other popup clicks from closing.\n",
      "     |  \n",
      "     |  Method resolution order:\n",
      "     |      Popup\n",
      "     |      branca.element.Element\n",
      "     |      builtins.object\n",
      "     |  \n",
      "     |  Methods defined here:\n",
      "     |  \n",
      "     |  __init__(self, html=None, parse_html=False, max_width='100%', show=False, sticky=False, **kwargs)\n",
      "     |      Initialize self.  See help(type(self)) for accurate signature.\n",
      "     |  \n",
      "     |  render(self, **kwargs)\n",
      "     |      Renders the HTML representation of the element.\n",
      "     |  \n",
      "     |  ----------------------------------------------------------------------\n",
      "     |  Methods inherited from branca.element.Element:\n",
      "     |  \n",
      "     |  add_child(self, child, name=None, index=None)\n",
      "     |      Add a child.\n",
      "     |  \n",
      "     |  add_children(self, child, name=None, index=None)\n",
      "     |      Add a child.\n",
      "     |  \n",
      "     |  add_to(self, parent, name=None, index=None)\n",
      "     |      Add element to a parent.\n",
      "     |  \n",
      "     |  get_bounds(self)\n",
      "     |      Computes the bounds of the object and all it's children\n",
      "     |      in the form [[lat_min, lon_min], [lat_max, lon_max]].\n",
      "     |  \n",
      "     |  get_name(self)\n",
      "     |      Returns a string representation of the object.\n",
      "     |      This string has to be unique and to be a python and\n",
      "     |      javascript-compatible\n",
      "     |      variable name.\n",
      "     |  \n",
      "     |  get_root(self)\n",
      "     |      Returns the root of the elements tree.\n",
      "     |  \n",
      "     |  save(self, outfile, close_file=True, **kwargs)\n",
      "     |      Saves an Element into a file.\n",
      "     |      \n",
      "     |      Parameters\n",
      "     |      ----------\n",
      "     |      outfile : str or file object\n",
      "     |          The file (or filename) where you want to output the html.\n",
      "     |      close_file : bool, default True\n",
      "     |          Whether the file has to be closed after write.\n",
      "     |  \n",
      "     |  to_dict(self, depth=-1, ordered=True, **kwargs)\n",
      "     |      Returns a dict representation of the object.\n",
      "     |  \n",
      "     |  to_json(self, depth=-1, **kwargs)\n",
      "     |      Returns a JSON representation of the object.\n",
      "     |  \n",
      "     |  ----------------------------------------------------------------------\n",
      "     |  Data descriptors inherited from branca.element.Element:\n",
      "     |  \n",
      "     |  __dict__\n",
      "     |      dictionary for instance variables (if defined)\n",
      "     |  \n",
      "     |  __weakref__\n",
      "     |      list of weak references to the object (if defined)\n",
      "    \n",
      "    class Tooltip(branca.element.MacroElement)\n",
      "     |  Create a tooltip that shows text when hovering over its parent object.\n",
      "     |  \n",
      "     |  Parameters\n",
      "     |  ----------\n",
      "     |  text: str\n",
      "     |      String to display as a tooltip on the object. If the argument is of a\n",
      "     |      different type it will be converted to str.\n",
      "     |  style: str, default None.\n",
      "     |      HTML inline style properties like font and colors. Will be applied to\n",
      "     |      a div with the text in it.\n",
      "     |  sticky: bool, default True\n",
      "     |      Whether the tooltip should follow the mouse.\n",
      "     |  **kwargs\n",
      "     |      These values will map directly to the Leaflet Options. More info\n",
      "     |      available here: https://leafletjs.com/reference-1.5.1#tooltip\n",
      "     |  \n",
      "     |  Method resolution order:\n",
      "     |      Tooltip\n",
      "     |      branca.element.MacroElement\n",
      "     |      branca.element.Element\n",
      "     |      builtins.object\n",
      "     |  \n",
      "     |  Methods defined here:\n",
      "     |  \n",
      "     |  __init__(self, text, style=None, sticky=True, **kwargs)\n",
      "     |      Initialize self.  See help(type(self)) for accurate signature.\n",
      "     |  \n",
      "     |  parse_options(self, kwargs)\n",
      "     |      Validate the provided kwargs and return options as json string.\n",
      "     |  \n",
      "     |  ----------------------------------------------------------------------\n",
      "     |  Data and other attributes defined here:\n",
      "     |  \n",
      "     |  valid_options = {'attribution': (<class 'str'>,), 'className': (<class...\n",
      "     |  \n",
      "     |  ----------------------------------------------------------------------\n",
      "     |  Methods inherited from branca.element.MacroElement:\n",
      "     |  \n",
      "     |  render(self, **kwargs)\n",
      "     |      Renders the HTML representation of the element.\n",
      "     |  \n",
      "     |  ----------------------------------------------------------------------\n",
      "     |  Methods inherited from branca.element.Element:\n",
      "     |  \n",
      "     |  add_child(self, child, name=None, index=None)\n",
      "     |      Add a child.\n",
      "     |  \n",
      "     |  add_children(self, child, name=None, index=None)\n",
      "     |      Add a child.\n",
      "     |  \n",
      "     |  add_to(self, parent, name=None, index=None)\n",
      "     |      Add element to a parent.\n",
      "     |  \n",
      "     |  get_bounds(self)\n",
      "     |      Computes the bounds of the object and all it's children\n",
      "     |      in the form [[lat_min, lon_min], [lat_max, lon_max]].\n",
      "     |  \n",
      "     |  get_name(self)\n",
      "     |      Returns a string representation of the object.\n",
      "     |      This string has to be unique and to be a python and\n",
      "     |      javascript-compatible\n",
      "     |      variable name.\n",
      "     |  \n",
      "     |  get_root(self)\n",
      "     |      Returns the root of the elements tree.\n",
      "     |  \n",
      "     |  save(self, outfile, close_file=True, **kwargs)\n",
      "     |      Saves an Element into a file.\n",
      "     |      \n",
      "     |      Parameters\n",
      "     |      ----------\n",
      "     |      outfile : str or file object\n",
      "     |          The file (or filename) where you want to output the html.\n",
      "     |      close_file : bool, default True\n",
      "     |          Whether the file has to be closed after write.\n",
      "     |  \n",
      "     |  to_dict(self, depth=-1, ordered=True, **kwargs)\n",
      "     |      Returns a dict representation of the object.\n",
      "     |  \n",
      "     |  to_json(self, depth=-1, **kwargs)\n",
      "     |      Returns a JSON representation of the object.\n",
      "     |  \n",
      "     |  ----------------------------------------------------------------------\n",
      "     |  Data descriptors inherited from branca.element.Element:\n",
      "     |  \n",
      "     |  __dict__\n",
      "     |      dictionary for instance variables (if defined)\n",
      "     |  \n",
      "     |  __weakref__\n",
      "     |      list of weak references to the object (if defined)\n",
      "\n",
      "FILE\n",
      "    /opt/conda/envs/learn-env/lib/python3.6/site-packages/folium/map.py\n",
      "\n",
      "\n"
     ]
    }
   ],
   "source": []
  },
  {
   "cell_type": "markdown",
   "metadata": {},
   "source": [
    "Now we can also add a marker to this map.  For now, let's start by adding a marker for our Buenos Aires coordinates."
   ]
  },
  {
   "cell_type": "code",
   "execution_count": 9,
   "metadata": {
    "scrolled": true
   },
   "outputs": [
    {
     "data": {
      "text/plain": [
       "<folium.map.Marker at 0x7f232974aa90>"
      ]
     },
     "execution_count": 9,
     "metadata": {},
     "output_type": "execute_result"
    }
   ],
   "source": [
    "buenos_marker = folium.Marker([ba_latitude, ba_longitude])\n",
    "buenos_marker.add_to(buenos_map)"
   ]
  },
  {
   "cell_type": "markdown",
   "metadata": {},
   "source": [
    "So we used the `folium` library to create a marker.  We specified the coordinates of the marker as a list. Finally, we added the marker to our map with the `add_to` function."
   ]
  },
  {
   "cell_type": "markdown",
   "metadata": {},
   "source": [
    "Let's see our updated map!  We see our map by referencing our `buenos_map` variable."
   ]
  },
  {
   "cell_type": "code",
   "execution_count": 10,
   "metadata": {},
   "outputs": [
    {
     "data": {
      "text/html": [
       "<div style=\"width:100%;\"><div style=\"position:relative;width:100%;height:0;padding-bottom:60%;\"><iframe src=\"data:text/html;charset=utf-8;base64,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\" style=\"position:absolute;width:100%;height:100%;left:0;top:0;border:none !important;\" allowfullscreen webkitallowfullscreen mozallowfullscreen></iframe></div></div>"
      ],
      "text/plain": [
       "<folium.folium.Map at 0x7f23544852b0>"
      ]
     },
     "execution_count": 10,
     "metadata": {},
     "output_type": "execute_result"
    }
   ],
   "source": [
    "buenos_map"
   ]
  },
  {
   "cell_type": "markdown",
   "metadata": {},
   "source": [
    "Great! Note that both the map object and the map marker are just stored as variables."
   ]
  },
  {
   "cell_type": "code",
   "execution_count": 11,
   "metadata": {},
   "outputs": [
    {
     "data": {
      "text/plain": [
       "<folium.map.Marker at 0x7f232974aa90>"
      ]
     },
     "execution_count": 11,
     "metadata": {},
     "output_type": "execute_result"
    }
   ],
   "source": [
    "buenos_marker"
   ]
  },
  {
   "cell_type": "markdown",
   "metadata": {},
   "source": [
    "And just like any other piece of\n",
    "data in Python, we can place this marker in a list, and then retrieve it from the list."
   ]
  },
  {
   "cell_type": "code",
   "execution_count": 12,
   "metadata": {},
   "outputs": [],
   "source": [
    "buenos_markers = [buenos_marker]"
   ]
  },
  {
   "cell_type": "code",
   "execution_count": 13,
   "metadata": {},
   "outputs": [
    {
     "data": {
      "text/plain": [
       "<folium.map.Marker at 0x7f232974aa90>"
      ]
     },
     "execution_count": 13,
     "metadata": {},
     "output_type": "execute_result"
    }
   ],
   "source": [
    "buenos_markers[0]"
   ]
  },
  {
   "cell_type": "markdown",
   "metadata": {},
   "source": [
    "Recall our `neighborhoods` list from above.  The coordinates in the markers below match the neighborhoods in our `neighborhoods` list, respectively."
   ]
  },
  {
   "cell_type": "code",
   "execution_count": 14,
   "metadata": {},
   "outputs": [],
   "source": [
    "neighborhoods = ['Palermo', 'Ricoleta', 'Santelmo', 'Puerto Madero', 'Belgrano', 'La Boca']\n",
    "marker_one = folium.Marker([-34.5711, -58.4233])\n",
    "marker_two = folium.Marker([-34.5895, -58.3974])\n",
    "marker_three = folium.Marker([-34.6212, -58.3731])\n",
    "marker_four = folium.Marker([-34.6177, -58.3621])\n",
    "marker_five = folium.Marker([-34.603722,  -58.381592])\n",
    "marker_six = folium.Marker([-34.6345, -58.3631])\n",
    "neighborhood_markers = [marker_one, marker_two, marker_three, marker_four, marker_five, marker_six]"
   ]
  },
  {
   "cell_type": "markdown",
   "metadata": {},
   "source": [
    "Assign `la_boca_marker` equal to the last marker."
   ]
  },
  {
   "cell_type": "code",
   "execution_count": 15,
   "metadata": {},
   "outputs": [],
   "source": [
    "la_boca_marker = neighborhood_markers[-1]"
   ]
  },
  {
   "cell_type": "markdown",
   "metadata": {},
   "source": [
    "Below, we will rewrite `buenos_map` variable to create a new map of Buenos Aires, but this time we will add `la_boca_marker` to the map and zoom in a bit using the `zoom_start` attribute."
   ]
  },
  {
   "cell_type": "code",
   "execution_count": 16,
   "metadata": {},
   "outputs": [
    {
     "data": {
      "text/html": [
       "<div style=\"width:100%;\"><div style=\"position:relative;width:100%;height:0;padding-bottom:60%;\"><iframe src=\"data:text/html;charset=utf-8;base64,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\" style=\"position:absolute;width:100%;height:100%;left:0;top:0;border:none !important;\" allowfullscreen webkitallowfullscreen mozallowfullscreen></iframe></div></div>"
      ],
      "text/plain": [
       "<folium.folium.Map at 0x7f232974f748>"
      ]
     },
     "execution_count": 16,
     "metadata": {},
     "output_type": "execute_result"
    }
   ],
   "source": [
    "import folium\n",
    "buenos_map = folium.Map([ba_latitude, ba_longitude], zoom_start = 12)\n",
    "la_boca_marker.add_to(buenos_map)\n",
    "buenos_map"
   ]
  },
  {
   "cell_type": "markdown",
   "metadata": {},
   "source": [
    "Now that we plotted `la_boca_marker` we don't need the marker anymore.  So, let's remove this last element from our `neighborhood_markers` list."
   ]
  },
  {
   "cell_type": "code",
   "execution_count": 17,
   "metadata": {},
   "outputs": [
    {
     "data": {
      "text/plain": [
       "<folium.map.Marker at 0x7f23296ef3c8>"
      ]
     },
     "execution_count": 17,
     "metadata": {},
     "output_type": "execute_result"
    }
   ],
   "source": [
    "neighborhood_markers.pop()"
   ]
  },
  {
   "cell_type": "code",
   "execution_count": 18,
   "metadata": {},
   "outputs": [
    {
     "name": "stdout",
     "output_type": "stream",
     "text": [
      "5\n",
      "True\n"
     ]
    }
   ],
   "source": [
    "print(len(neighborhood_markers)) # 5\n",
    "print(neighborhood_markers[-1] == marker_five) # True"
   ]
  },
  {
   "cell_type": "markdown",
   "metadata": {},
   "source": [
    "Now assign `recoleta_marker` to the second marker in the `neighborhood_markers` list.  This time, we won't reassign our `buenos_map` so we should expect both `la_boca_marker` and `recoleta_marker` to appear!"
   ]
  },
  {
   "cell_type": "code",
   "execution_count": 19,
   "metadata": {},
   "outputs": [],
   "source": [
    "recoleta_marker = neighborhood_markers[1]"
   ]
  },
  {
   "cell_type": "code",
   "execution_count": 20,
   "metadata": {},
   "outputs": [
    {
     "data": {
      "text/html": [
       "<div style=\"width:100%;\"><div style=\"position:relative;width:100%;height:0;padding-bottom:60%;\"><iframe src=\"data:text/html;charset=utf-8;base64,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\" style=\"position:absolute;width:100%;height:100%;left:0;top:0;border:none !important;\" allowfullscreen webkitallowfullscreen mozallowfullscreen></iframe></div></div>"
      ],
      "text/plain": [
       "<folium.folium.Map at 0x7f232974f748>"
      ]
     },
     "execution_count": 20,
     "metadata": {},
     "output_type": "execute_result"
    }
   ],
   "source": [
    "recoleta_marker.add_to(buenos_map)\n",
    "buenos_map"
   ]
  },
  {
   "cell_type": "markdown",
   "metadata": {},
   "source": [
    "Don't worry if this feels tedious and manual. When we get up to loops in Python, we will see how to easily plot all of the markers in our list."
   ]
  },
  {
   "cell_type": "code",
   "execution_count": 21,
   "metadata": {},
   "outputs": [
    {
     "data": {
      "text/html": [
       "<div style=\"width:100%;\"><div style=\"position:relative;width:100%;height:0;padding-bottom:60%;\"><iframe src=\"data:text/html;charset=utf-8;base64,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\" style=\"position:absolute;width:100%;height:100%;left:0;top:0;border:none !important;\" allowfullscreen webkitallowfullscreen mozallowfullscreen></iframe></div></div>"
      ],
      "text/plain": [
       "<folium.folium.Map at 0x7f232974f748>"
      ]
     },
     "execution_count": 21,
     "metadata": {},
     "output_type": "execute_result"
    }
   ],
   "source": [
    "for marker in neighborhood_markers:\n",
    "    marker.add_to(buenos_map)\n",
    "buenos_map"
   ]
  },
  {
   "cell_type": "markdown",
   "metadata": {},
   "source": [
    "But that's a lesson for another day."
   ]
  },
  {
   "cell_type": "markdown",
   "metadata": {},
   "source": [
    "### Summary"
   ]
  },
  {
   "cell_type": "markdown",
   "metadata": {
    "collapsed": true
   },
   "source": [
    "In this lesson we saw how to select information from a list and then plot that information with maps.  We saw that lists can make good arguments to methods, as they represent an ordered collection of information, like latitude followed by longitude.  In just a few lessons we saw how to use Python to make visualizations with our data going forward."
   ]
  }
 ],
 "metadata": {
  "kernelspec": {
   "display_name": "Python 3",
   "language": "python",
   "name": "python3"
  },
  "language_info": {
   "codemirror_mode": {
    "name": "ipython",
    "version": 3
   },
   "file_extension": ".py",
   "mimetype": "text/x-python",
   "name": "python",
   "nbconvert_exporter": "python",
   "pygments_lexer": "ipython3",
   "version": "3.6.9"
  }
 },
 "nbformat": 4,
 "nbformat_minor": 2
}
